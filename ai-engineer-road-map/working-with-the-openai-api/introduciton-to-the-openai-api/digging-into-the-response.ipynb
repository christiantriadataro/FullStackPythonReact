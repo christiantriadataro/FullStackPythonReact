{
 "cells": [
  {
   "metadata": {},
   "cell_type": "markdown",
   "source": [
    "## Digging into the response\n",
    "One of the key skills required to work with APIs is manipulating the response to extract the desired information. In this exercise, you'll push your Python dictionary and list manipulation skills to the max to extract information from hte API response.\n",
    "\n",
    "You've been provided with `response`, which is a response from the OpenAI API when provided witht the prompt, `Who developed ChatGPT?`\n",
    "\n",
    "This `response` object has been printed for you so you can see and understand its structure.\n",
    "\n",
    "#### Instructions\n",
    "1. Extract the model used from `response` using attributes.\n",
    "2. Extract the total tokens used from `response` using attributes.\n",
    "3. Extract the text answer to the prompt from `response`."
   ],
   "id": "8fee1aaebec8bef6"
  },
  {
   "cell_type": "code",
   "execution_count": null,
   "id": "initial_id",
   "metadata": {
    "collapsed": true
   },
   "outputs": [],
   "source": [
    "# Extract the model used from response \n",
    "print(response.model)\n",
    "\n",
    "# Extra the total_tokens from response\n",
    "print(response.usage.total_tokens)\n",
    "\n",
    "# Extract the text from response\n",
    "print(response.choices[0].message.content)"
   ]
  }
 ],
 "metadata": {
  "kernelspec": {
   "display_name": "Python 3",
   "language": "python",
   "name": "python3"
  },
  "language_info": {
   "codemirror_mode": {
    "name": "ipython",
    "version": 2
   },
   "file_extension": ".py",
   "mimetype": "text/x-python",
   "name": "python",
   "nbconvert_exporter": "python",
   "pygments_lexer": "ipython2",
   "version": "2.7.6"
  }
 },
 "nbformat": 4,
 "nbformat_minor": 5
}
