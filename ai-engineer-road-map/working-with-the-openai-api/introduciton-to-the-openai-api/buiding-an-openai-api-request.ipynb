{
 "cells": [
  {
   "metadata": {},
   "cell_type": "markdown",
   "source": [
    "## Building an OPENAI API request\n",
    "Throughout the course, you'll write Python code to interact with the OpenAI API. Entering your own API key is not necessary to create request and complete the exercises in this course.\n",
    "\n",
    "The `OpenAI` class has already been imported for you from the `openai` library."
   ],
   "id": "bb3599e681162bb6"
  },
  {
   "metadata": {},
   "cell_type": "markdown",
   "source": [
    "### Instruction\n",
    "- Create an OpenAI API Python client (you can leave the `<OPEN_API_TOKEN>` API key placeholder unchanged).\n",
    "- Create a request to the Chat Completions endpoint.\n",
    "- Specify that the request should use the `gpt-4o-mini` model.\n",
    "- Specify the correct keys to create valid messages for this model."
   ],
   "id": "d55e3380bb478730"
  },
  {
   "metadata": {
    "ExecuteTime": {
     "end_time": "2024-12-21T00:55:41.781107Z",
     "start_time": "2024-12-21T00:55:40.913686Z"
    }
   },
   "cell_type": "code",
   "source": "from openai import OpenAI",
   "id": "efc7a1f545e8bce6",
   "outputs": [],
   "execution_count": 1
  },
  {
   "cell_type": "code",
   "execution_count": null,
   "id": "initial_id",
   "metadata": {
    "collapsed": true
   },
   "outputs": [],
   "source": [
    "# Create the OpenAI client\n",
    "client = OpenAI(api_key=\"<OPEN_AI_TOKEN>\")\n",
    "\n",
    "# Create a request to the Chat Completions endpoint\n",
    "response = client.chat.completions.create(\n",
    "    model=\"gpt-4o-mini\",\n",
    "    messages=[{\n",
    "        \"role\": \"user\",\n",
    "        \"content\": \"Who developed ChatGPT?\"\n",
    "    }]\n",
    ")\n",
    "\n",
    "print(response)"
   ]
  }
 ],
 "metadata": {
  "kernelspec": {
   "display_name": "Python 3",
   "language": "python",
   "name": "python3"
  },
  "language_info": {
   "codemirror_mode": {
    "name": "ipython",
    "version": 2
   },
   "file_extension": ".py",
   "mimetype": "text/x-python",
   "name": "python",
   "nbconvert_exporter": "python",
   "pygments_lexer": "ipython2",
   "version": "2.7.6"
  }
 },
 "nbformat": 4,
 "nbformat_minor": 5
}
