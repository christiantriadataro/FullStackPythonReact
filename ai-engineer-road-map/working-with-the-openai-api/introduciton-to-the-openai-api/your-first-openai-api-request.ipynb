{
 "cells": [
  {
   "metadata": {},
   "cell_type": "markdown",
   "source": [
    "# Your first OpenAI API request!\n",
    "To give you a taste of what's to come, the Python code to send a request to the OpenAI API has been set up for you.\n",
    "\n",
    "Pass the `prompt` argument any prompt you wish to see how OpenAI's model responds. THe prompt can be phrased as a question or instruction, so dive in and start prompting!\n",
    "\n",
    "Here are a few prompts to try if you're struggling for ideas:\n",
    "\n",
    "1. Simply and concisely, explain why learning about the OpenAI API is important for developers.\n",
    "2. I work as a `mid frontend developer`. Give me three concise suggestions for tasks that could be automated with the OpenAI API.\n",
    "3. In two sentences, how can the OpenAI API be used to upskill myself?"
   ],
   "id": "dd32327024ac754c"
  },
  {
   "metadata": {},
   "cell_type": "markdown",
   "source": [
    "## Instructions\n",
    "- Write a prompt to send to OpenAI's `gpt-4o-mini` model via their API - you can send anything here, so experiment, have fun, and submit your answer when you're ready to move on!"
   ],
   "id": "edcbf4fb00b8fdcd"
  },
  {
   "cell_type": "code",
   "execution_count": null,
   "id": "initial_id",
   "metadata": {
    "collapsed": true
   },
   "outputs": [],
   "source": [
    "client = OpenAI(api_key=\"<OPENAI_API_TOKEN>\")\n",
    "response = client.chat.completions.create(\n",
    "    model=\"gpt-4o-mini\",\n",
    "    # Write your prompt\n",
    "    messages=[{\n",
    "        \"role\": \"user\",\n",
    "        \"content\": \"I work as a Mid frontend devleoper. Give me three concise suggestions for tasks that could be automated with the OpenAI API.\"\n",
    "    }],\n",
    "    max_tokens=200\n",
    ")\n",
    "\n",
    "print(response.choices[0].message.content)"
   ]
  }
 ],
 "metadata": {
  "kernelspec": {
   "display_name": "Python 3",
   "language": "python",
   "name": "python3"
  },
  "language_info": {
   "codemirror_mode": {
    "name": "ipython",
    "version": 2
   },
   "file_extension": ".py",
   "mimetype": "text/x-python",
   "name": "python",
   "nbconvert_exporter": "python",
   "pygments_lexer": "ipython2",
   "version": "2.7.6"
  }
 },
 "nbformat": 4,
 "nbformat_minor": 5
}
