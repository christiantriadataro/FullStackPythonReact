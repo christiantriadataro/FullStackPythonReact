{
 "cells": [
  {
   "metadata": {},
   "cell_type": "markdown",
   "source": [
    "# Introduction to the OpenAI API\n",
    "## Harness the power of AI from OpenAI's models by creating requests to their API with just a few lines of code. Discover the wide range of capabilities available via the OpenAI API. Learn about the best practices for managing API usage across the business by utilizing API organizations."
   ],
   "id": "c28ebd750fda1c42"
  },
  {
   "metadata": {},
   "cell_type": "markdown",
   "source": [
    "### What is the OpenAI API?\n",
    "### WORKING WITH THE OPENAI API\n",
    "\n",
    "## Coming up...\n",
    "#### Course goals\n",
    "- Use the OpenAI API to access AI models\n",
    "- Use those models to solve various tasks\n",
    "- Use Python code to do this!\n",
    "\n",
    "#### Expected knowledge\n",
    "- Subsetting Pythong lists and dictionaries\n",
    "- Control flow -> if, elif, else\n",
    "- Loops -> for, while\n",
    "\n",
    "#### Not expected to know\n",
    "- AI or machine learning\n",
    "\n",
    "\n",
    "## OpenAI, ChatGPT, and the OpenAI API\n",
    "- OpenAI = AI R&D company\n",
    "- ChatGPT - AI application\n",
    "- OpenAI API = Interface for accessing OpenAI models\n",
    "\n",
    "\n",
    "## What is an API?\n",
    "- Application Programming Interface\n",
    "Client -> Request -> API \n",
    "Client <- Response <- API\n",
    "\n",
    "\n",
    "## API vs. web interface\n",
    "#### API\n",
    "- Provides flexibility for intergrating AI into products, experiences, and processes\n",
    "#### Web Interface\n",
    "- very little setup\n",
    "- sufficient for streamlining individual's workflows\n",
    "\n",
    "## Why the OpenAI API?\n",
    "- Accesibility to AI\n",
    "- Don't required background\n",
    "\n",
    "## Building AI application\n",
    "- DataLab = Cloud-based, AI-powered IDE\n",
    "\n"
   ],
   "id": "3cf236a9809b5094"
  }
 ],
 "metadata": {
  "kernelspec": {
   "display_name": "Python 3",
   "language": "python",
   "name": "python3"
  },
  "language_info": {
   "codemirror_mode": {
    "name": "ipython",
    "version": 2
   },
   "file_extension": ".py",
   "mimetype": "text/x-python",
   "name": "python",
   "nbconvert_exporter": "python",
   "pygments_lexer": "ipython2",
   "version": "2.7.6"
  }
 },
 "nbformat": 4,
 "nbformat_minor": 5
}
